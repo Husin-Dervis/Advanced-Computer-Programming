{
 "cells": [
  {
   "cell_type": "markdown",
   "id": "492a5c95",
   "metadata": {},
   "source": [
    "# 1- BMI (Body mass index) \n",
    "BMI (Body mass index) cinsinden elde edilen değer,kişinin kendisi için sağlıklı olan kiloya ne kadar yakın olduğunu gösterir. Ancak bu ölçüm, vücutta ne kadar yağ ya da kas olduğunu göstermez.\n",
    "\n",
    "# How to calculate BMI ?\n",
    "Vücut ağırlığının boyun karesine bölünmesi vücut kitle indeksini verir.\n",
    "\n",
    "Weigh(vücut ağırlığı),Height(vücut uzunluğu )\n",
    "\n",
    "BMI=Weight(kg)/Height*Height(m)"
   ]
  },
  {
   "cell_type": "code",
   "execution_count": 3,
   "id": "e59d70cc",
   "metadata": {},
   "outputs": [
    {
     "name": "stdout",
     "output_type": "stream",
     "text": [
      "Weight =88\n",
      "Height =1.55\n",
      "Body mass index = 36.628511966701346\n",
      "extremly obese\n"
     ]
    }
   ],
   "source": [
    "Weight=int(input(\"Weight =\"))\n",
    "Height=float(input(\"Height =\"))\n",
    "BMI=Weight/(Height*Height)\n",
    "print(\"Body mass index =\",BMI)\n",
    "if BMI<18.5:\n",
    "    print(\"underweight\")\n",
    "elif BMI >=18.5 and BMI<=24.9:\n",
    "    print(\"normal\")\n",
    "elif BMI >=25 and BMI<=29.9:\n",
    "    print(\"overweight\")\n",
    "elif BMI >=30 and BMI<=34.9:\n",
    "    print(\"obese\")\n",
    "elif BMI > 35:\n",
    "    print(\"extremly obese\")\n",
    "else:\n",
    "    print(\"not found\")"
   ]
  },
  {
   "cell_type": "markdown",
   "id": "867f6d85",
   "metadata": {},
   "source": [
    "# 2- Ameliyat öncesi intravenöz sıvı (izotonik sodyum klorür çözeltisi) \n",
    "#Her hastaya ameliyat öncesi bu sıvı verilmelidir.\n",
    "\n",
    "# hesaplama yöntemi\n",
    " ((Vücudun bir saat içindeki sıvı ihtiyacının oruç tuttuğu saat sayısı ile çarpımı))....\n",
    "\n",
    "Vücudun bir saatte ne kadar sıvıya ihtiyacı olduğunu nasıl bilebiliriz? \n",
    "\n",
    "#Cevap:\n",
    "İlk 20 kilo 3 ile çarpılır • Hastanın ağırlığının geri kalanı 1 ile çarpılır.\n",
    "\n",
    "Örnek:\n",
    "60 kg ağırlığındaki bir hasta saatte ne kadar sıvıya ihtiyaç duyar?\n",
    "\n",
    "#Cevap:\n",
    "İlk 20 kilonun 3 ile çarpımı 60 ml eşittir.\n",
    "Kalan 40 kg çarpı 1 eşittir 40 ml .\n",
    "Yani hastanın ihtiyacı 100 ml/saat.\n",
    "\n",
    "Ve hasta ameliyata oruçlu geliyor, bu yüzden oruç tutma süresini ihtiyacı olan sıvı miktarı ile çarpıyoruz ve 8 saat oruç tuttuğunu varsayalım.\n",
    "Sonucu :\n",
    "100 ml * 8 saatlik açlık = 800 ml intravenöz sıvıların (izotonik sodyum klorür çözeltisi) ameliyatından önce hastanın ihtiyacı olan şeydir.\n",
    "\n",
    "#(hasta ağırlığı = 60 \n",
    ",kalan ağırlık =hasta ağırlığı - 20 \n",
    ",hastanın ihtiyacı =20*3 + kalan ağırlık)"
   ]
  },
  {
   "cell_type": "code",
   "execution_count": 4,
   "id": "6fdfac42",
   "metadata": {},
   "outputs": [
    {
     "name": "stdout",
     "output_type": "stream",
     "text": [
      "patient weight =66\n",
      "Liquids =  106.0 ml\n"
     ]
    }
   ],
   "source": [
    "patientWeight = float(input(\"patient weight =\")) \n",
    "RemainingWeight = patientWeight-20\n",
    "Liquids =20*3+RemainingWeight\n",
    "print(\"Liquids = \",Liquids,\"ml\")\n"
   ]
  },
  {
   "cell_type": "markdown",
   "id": "08d95285",
   "metadata": {},
   "source": [
    "# 3-Convert temperature from Fahrenheit to Celsius\n",
    "\n",
    "To convert Fahrenheit to celsius, the formula used is °C = 5/9(°F – 32)."
   ]
  },
  {
   "cell_type": "code",
   "execution_count": 5,
   "id": "672651d0",
   "metadata": {},
   "outputs": [
    {
     "name": "stdout",
     "output_type": "stream",
     "text": [
      " temperature in Fahrenheit =77\n",
      "temperature in Celsius = 25.0\n"
     ]
    }
   ],
   "source": [
    "F = float(input(\" temperature in Fahrenheit =\"))\n",
    "C = (5/9)*(F-32)\n",
    "print(\"temperature in Celsius =\",C)"
   ]
  },
  {
   "cell_type": "code",
   "execution_count": null,
   "id": "73d234c8",
   "metadata": {},
   "outputs": [],
   "source": []
  }
 ],
 "metadata": {
  "kernelspec": {
   "display_name": "Python 3 (ipykernel)",
   "language": "python",
   "name": "python3"
  },
  "language_info": {
   "codemirror_mode": {
    "name": "ipython",
    "version": 3
   },
   "file_extension": ".py",
   "mimetype": "text/x-python",
   "name": "python",
   "nbconvert_exporter": "python",
   "pygments_lexer": "ipython3",
   "version": "3.9.12"
  }
 },
 "nbformat": 4,
 "nbformat_minor": 5
}
